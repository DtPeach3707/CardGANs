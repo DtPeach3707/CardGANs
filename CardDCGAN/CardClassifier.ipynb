{
  "nbformat": 4,
  "nbformat_minor": 0,
  "metadata": {
    "colab": {
      "name": "CardClassifier",
      "provenance": []
    },
    "kernelspec": {
      "name": "python3",
      "display_name": "Python 3"
    },
    "language_info": {
      "name": "python"
    }
  },
  "cells": [
    {
      "cell_type": "code",
      "metadata": {
        "id": "8BEX-IoPGG2R"
      },
      "source": [
        "!gdown https://drive.google.com/uc?id=1AyGHVflbIjzinkKBURHNVDx1wWg9JixB\n",
        "!unzip cards.zip"
      ],
      "execution_count": null,
      "outputs": []
    },
    {
      "cell_type": "code",
      "metadata": {
        "id": "gnp8sxgBGfsc"
      },
      "source": [
        "import cv2\n",
        "import numpy as np\n",
        "import matplotlib.pyplot as plt\n",
        "card1 = cv2.resize(cv2.imread(\"cards/card1.JPG\", cv2.IMREAD_GRAYSCALE), (48, 48))\n",
        "card2 = cv2.resize(cv2.imread(\"cards/card2.JPG\", cv2.IMREAD_GRAYSCALE), (48, 48))\n",
        "card3 = cv2.resize(cv2.imread(\"cards/card3.JPG\", cv2.IMREAD_GRAYSCALE), (48, 48))\n",
        "card4 = cv2.resize(cv2.imread(\"cards/card4.JPG\", cv2.IMREAD_GRAYSCALE), (48, 48))\n",
        "cv2.imwrite('/content/Card_1.jpg', card1)\n",
        "cv2.imwrite('/content/Card_2.jpg', card2)\n",
        "cv2.imwrite('/content/Card_3.jpg', card3)\n",
        "cv2.imwrite('/content/Card_4.jpg', card4)"
      ],
      "execution_count": null,
      "outputs": []
    },
    {
      "cell_type": "code",
      "metadata": {
        "id": "gNkzzkg7GiHP"
      },
      "source": [
        "from PIL import Image\n",
        "card1 = Image.open('/content/Card_1.jpg')\n",
        "card2 = Image.open('/content/Card_2.jpg')\n",
        "card3 = Image.open('/content/Card_3.jpg')\n",
        "card4 = Image.open('/content/Card_4.jpg')\n",
        "def leftshift(image, n):\n",
        "  image = np.array(image)\n",
        "  for i in range(image.shape[0]):\n",
        "    for j in range(image.shape[1]):\n",
        "      if (i < image.shape[1] - n):\n",
        "        image[j][i] = image[j][i + n]\n",
        "  return image\n",
        "def rightshift(image, n):\n",
        "  image = np.array(image)\n",
        "  for i in range(image.shape[0], 1, -1):\n",
        "    for j in range(image.shape[1]):\n",
        "      if (i < image.shape[0] - n):\n",
        "        image[j][i] = image[j][i - n]\n",
        "  return image\n",
        "def upshift(image, n):\n",
        "  image = np.array(image)\n",
        "  for j in range(image.shape[0]):\n",
        "    for i in range(image.shape[1]):\n",
        "      if (j < image.shape[0] - n and j > n):\n",
        "        image[j][i] = image[j + n][i]\n",
        "  return image\n",
        "def downshift(image, n):\n",
        "  image = np.array(image)\n",
        "  for j in range(image.shape[0], 1, -1):\n",
        "    for i in range(image.shape[1]):\n",
        "      if (j > n and j < image.shape[0] - n):\n",
        "        image[j][i] = image[j - n][i]\n",
        "  return image\n",
        "plt.imshow(downshift(card1, 6))\n",
        "def transform_preprocess(image):\n",
        "  final_images = []\n",
        "  horzflip = image.transpose(method = Image.FLIP_LEFT_RIGHT)\n",
        "  vertflip = image.transpose(method = Image.FLIP_TOP_BOTTOM)\n",
        "  reflflip = horzflip.transpose(method = Image.FLIP_TOP_BOTTOM)\n",
        "  images = [image, horzflip, vertflip, reflflip]\n",
        "  for image in [image, horzflip]:\n",
        "    images.append(image.rotate(90))\n",
        "    images.append(image.rotate(270))\n",
        "  for image in images:\n",
        "    for m in range(9):\n",
        "      final_images.append(leftshift(image, m))\n",
        "      for l in range(6):\n",
        "        final_images.append(upshift(leftshift(image, m), l))\n",
        "        final_images.append(downshift(leftshift(image, m), l))\n",
        "    for m in range(6):\n",
        "      final_images.append(rightshift(image, m))\n",
        "      for l in range(6):\n",
        "        final_images.append(upshift(rightshift(image, m), l))\n",
        "        final_images.append(downshift(rightshift(image, m), l))\n",
        "    final_images.append(np.array(image))\n",
        "  final_images = np.array(final_images)\n",
        "  return final_images\n",
        "index_array1 = []\n",
        "index_array2 = []\n",
        "index_array3 = []\n",
        "index_array4 = []\n",
        "Card1 = transform_preprocess(card1)\n",
        "for i in range(Card1.shape[0]):\n",
        "  index_array1.append(0)\n",
        "Card2 = transform_preprocess(card2)\n",
        "for i in range(Card2.shape[0]):\n",
        "  index_array2.append(1)\n",
        "Card3 = transform_preprocess(card3)\n",
        "for i in range(Card3.shape[0]):\n",
        "  index_array3.append(2)\n",
        "Card4 = transform_preprocess(card4)\n",
        "for i in range(Card4.shape[0]):\n",
        "  index_array4.append(3)\n",
        "index_array1 = np.array(index_array1)\n",
        "index_array2 = np.array(index_array2)\n",
        "index_array3 = np.array(index_array3)\n",
        "index_array4 = np.array(index_array4)\n",
        "FinalCards = np.concatenate((Card1, Card2, Card3, Card4), axis = 0)\n",
        "Cards = [Card1, Card2, Card3, Card4]\n",
        "print (FinalCards.shape)"
      ],
      "execution_count": null,
      "outputs": []
    },
    {
      "cell_type": "code",
      "metadata": {
        "id": "crqAuTKrG-9L"
      },
      "source": [
        "import numpy as np #Importing needed libraries\n",
        "from tensorflow import random\n",
        "from keras import losses\n",
        "from keras.models import Sequential\n",
        "from keras.layers import Dense, Activation, Dropout, Conv2D, MaxPool2D, Flatten\n",
        "from keras.preprocessing import image\n",
        "from keras.regularizers import l1, l2, l1_l2\n",
        "from keras.preprocessing.image import ImageDataGenerator\n",
        "import matplotlib.pyplot as plt\n",
        "import pdb\n",
        "from sklearn.model_selection import train_test_split\n",
        "Xtrain_set1, Xtest_set1, ytrain1, ytest1 = train_test_split(Card1, index_array1, test_size = 0.25)\n",
        "Xtrain_set2, Xtest_set2, ytrain2, ytest2 = train_test_split(Card2, index_array2, test_size = 0.25)\n",
        "Xtrain_set3, Xtest_set3, ytrain3, ytest3 = train_test_split(Card3, index_array3, test_size = 0.25)\n",
        "Xtrain_set4, Xtest_set4, ytrain4, ytest4 = train_test_split(Card4, index_array4, test_size = 0.25)\n",
        "X_train = np.concatenate((Xtrain_set1, Xtrain_set2, Xtrain_set3, Xtrain_set4)) \n",
        "X_test = np.concatenate((Xtest_set1, Xtest_set2, Xtest_set3, Xtest_set4))\n",
        "y_train = np.concatenate((ytrain1, ytrain2, ytrain3, ytrain4))\n",
        "y_test = np.concatenate((ytest1, ytest2, ytest3, ytest4))\n",
        "model = Sequential([\n",
        "    Flatten(input_shape=(48, 48)),\n",
        "    Dense(128, activation='relu'),\n",
        "    Dense(4)\n",
        "])\n",
        "model.compile(optimizer='adam',\n",
        "              loss=losses.SparseCategoricalCrossentropy(from_logits=True),\n",
        "              metrics=['accuracy'])\n",
        "model.fit(X_train, y_train, epochs = 40)\n",
        "test_loss, test_acc = model.evaluate(X_test,  y_test, verbose=2)\n",
        "print('\\nTest accuracy:', test_acc)\n",
        "model.save('Card_Classifier.h5')"
      ],
      "execution_count": null,
      "outputs": []
    }
  ]
}